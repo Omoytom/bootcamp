{
  "metadata": {
    "kernelspec": {
      "name": "python",
      "display_name": "Python (Pyodide)",
      "language": "python"
    },
    "language_info": {
      "codemirror_mode": {
        "name": "python",
        "version": 3
      },
      "file_extension": ".py",
      "mimetype": "text/x-python",
      "name": "python",
      "nbconvert_exporter": "python",
      "pygments_lexer": "ipython3",
      "version": "3.8"
    }
  },
  "nbformat_minor": 4,
  "nbformat": 4,
  "cells": [
    {
      "cell_type": "code",
      "source": "from collections import Counter\n",
      "metadata": {
        "trusted": true
      },
      "outputs": [],
      "execution_count": 5
    },
    {
      "cell_type": "code",
      "source": "text = \"\"\"Let’s assume you are a middle manager at a big corp.You are attending a meeting to evaluate a project—a brand new yet untested technology. It might have potential, but the tech isn’t in fashion. The field is universally dismissed by scientists, technologists, and futurists. \n          But you like the idea. It captures your imagination. There’s something about it. You think it’s gonna be big despite the scepticism. \n          What do you do?\n          Do you pound the table, make your case, and begin an arduous slog up the ladder of committees—making the same case, \n          pounding more tables (then breaking some) along the way? Even if you win the battle and the project gets greenlit, \n          you have to spend the next three to five years in constant struggle and uncertainty. Each time the project stumbles, \n          your critiques would gain a bit more confidence and your supporters would have a bit less.\n          Even if this project succeeds and achieves ~$500 million in annual sales within the first few years, \n          it will move the needle for your 100,000-person, $100 billion company by 0.5 percent. \n          If it becomes a massive success and makes $5 billion instead, there will be 5,000 other people rushing in to claim credit.\n          On the other hand, if it fails, you can expect 50,000 fingers pointing at you. Why did you have to waste all these years and all that \n          money on this project when it was doomed to fail from the start? Why didn’t you listen to the experts? Did you lose your mind? Your career \n          will be tainted. You might be fired.However, you can avoid all of that and take another route. You start by belittling this tech, \n          highlighting its flaws, poking at its warts from the get-go, while pounding at the table. You explain why the world is moving away from \n          this kind of idea, why no keynote speaker at a big conference would ever mention it. You advertise your wit, breadth of knowledge, and \n          good judgment (ahem…scepticism) to everyone in the room. Your summary of where the industry is headed happens to agree precisely with \n          what your boss and their boss believe. They laugh along and nod.You propose instead a modest step along a favoured direction. \n          It’s a franchise project. Everyone gets it. It gets greenlit easily. You continue to play smart politics, you sound good in meetings, and \n          your punchlines continue to be a huge hit.If your charisma continues to win hearts, you might be able to get your boss’s job next year \n          (the same boss who agreed with your ideas a while back) along with a 50 percent salary bump, and also double your prestige and influence. \n          Now you can finally buy that Tesla you always wanted to. Not just that, this boost also sets you up for future success \n          (higher paying jobs in other companies) just in case anything goes wrong.So, which route do you take? Do you pour your energy and ambition into the first route, the uncertain tech with a long slog, a 0.5 percent return, and high chance of failure? Or do you choose the second option—the franchise project and smart politics with great odds for a 50 percent bump in salary next year?\nOnly a naive optimist would pick the first option. The second route is naturally the rational choice.\nBut the question is, why does this happen? What makes an employee focus on politics than on innovation? What’s that tipping point in a company, and how can we avoid that?\nTo understand this, let’s understand why traffic jams happen. Believe it or not, they are more similar than we think.\nYou’re driving home from work on a Mumbai highway. The traffic is flowing well. Suddenly, out of nowhere, the highway turns into a parking lot of stopped cars. There’s no visible cause. There are no accidents in sight. Where did this traffic jam come from?\nAs Safi Bahcall writes in Loonshots, you just experienced a Phase Transition—a sudden change between two emergent behaviours: smooth flow and jammed flow.\nHere’s how to think about it: Imagine the highway is nearly empty. The driver of the car ahead of you is hundreds of metres away. They briefly tap, then release their brakes—maybe they’ve seen a cat. You see the red brake lights briefly flash, but since the car is so far away, there is no need to slow down. Life goes on. So does you car.\nThat’s not the case of a crowded highway. The same driver is only a few metres ahead. As soon as they touch their brakes, you slam yours. The brake lights in front of you flashed only for two seconds, but once the driver ahead of you releases their brakes, and you release yours, it takes you longer than two seconds to accelerate back to cruising speed. It may take you four seconds. The delay grows for the driver behind you. It may take them eight seconds to get back to the original speed. For the driver behind them, 16 seconds, and so on. The one small tap grows exponentially, until it becomes a traffic jam.\nBelow a critical density of cars on the highway, traffic flow is stable. Small disruptions—drivers tapping their brakes when cats run by—have no effect. This is a smooth flow state. But above a certain threshold, traffic flow suddenly becomes unstable. Small disruptions grow exponentially. That’s a jammed flow state. The sudden change between smooth and jammed flow is called a Phase Transition.\nAt the heart of every phase transition is a tug-of-war between competing forces. They are triggered when small shifts in system properties—for example, number of cars on the road—cause the balance between those forces to change.\nOver the past two decades, traffic flow researchers have introduced many variations on the basic model: more vs. less aggressive drivers, faster vs. slower reaction times, a mix of big vehicles and small cars, and so on. In all cases, they find the same phase transition. When the density exceeds a critical threshold, the system will flip from the smooth-flow to the jammed-flow state. Something similar happens in a company.\nIn a parallel world, imagine you work at a small startup. Instead of 100,000 people, there are 50. The annual revenue, instead of $50 billion, is zero. Success of a project would increase revenue not by a percentage point or two, but by an infinite amount.\nYour salary is low, but since you own a piece of the business, the financial rewards could be worth millions if the business does well. Therefore, sounding smart in meetings or trying to get your boss’s job is irrelevant. He isn’t getting paid much anyway. What matters is the survival of the startup, and then a big breakthrough.\nUniting to support crazy ideas is the rational choice in new startups. Always.\nBut as the small startup’s size gradually increases, it will eventually reach a breakeven point where the two incentives pulling in opposing directions—project work vs. politics work—are equal.\nAbove that size, a behaviour appears across the organisation that favours killing great ideas and supporting franchises.\nNow, it doesn’t mean that big companies cannot function well. But it’s also true that the Return on Politics (ROP) is high in big corps because the forces at play aren’t well-balanced.\nYou see, an organisation isn’t as simplistic as a traffic jam. The tug of war has multiple opposing forces that contribute to its phase transition. There are tiny things such as how far do employees live from the workplace to bigger details such as which industry the company is in. What do we do?\nThrow away too much detail and we explain nothing. Retain all the detail—same thing. Do we need to know the average age difference between a manager and their reports to tease out general principles for designing better organisations? Nope. Will we need to sift through 137 case studies to tease out general principles for designing more innovative teams? Nope. We want a model that is just simple enough so that we can extract macro insights in their micro origins with confidence.\nIn other words, we want a model that describes a forest but is built from the trees.\nTo understand macro patterns of a company, it turns out, we need just four key parameters:\nStake in Success: If you make a better coffee machine, the company sells more coffee machines, and the value of your stake grows. If your (longterm) pay is directly tied to the quality of your work, you focus more on project work and less on politics.\nSalary Growth: If every promotion comes with a 50 percent increase in salary, you would be spending most of your day making sure every influential person knows exactly who you are, how good your work is, and how bad everyone else’s work is. If, however, promotions come with a 5 percent increase in pay, who cares!\nManagement Levels: If a 1,000-people company has only three levels of management hierarchy, promotions will happen so rarely that it won’t be worth spending any time politicking. If there are 10 levels, however, the career ladder may always be on your mind.\nProject-Skill Fit: The greater your skill on the projects you’ve been assigned, the likely you are to choose project work. The lower your project–skill fit, the likely you are to choose politics.\nA company that finds a good balance between these forces is likely to have a very low RoP and focus on innovation instead of franchises.\nIt’s pretty obvious when the tides shift in an organisation. You get hints during 1-1s, group discussions, dinners, meetings, etc. Suddenly, the most engaged employees start focussing more on career than the company. Keeping eyes and ears open for such signals and adjusting the above parameters can help avoid the phase transition.\nIt’s a complex problem, and my goal isn’t to provide any answers. But this is a good framework to attack the problem. There’s no one size that fits all. For example, how much project-skill fit is good? If it fits too much, employees may get bored with their work. Similarly, if there are only two levels of management it might remove the focus from promotions, but would create other side effects such as lack of motivation and a chaotic management system.\nUnlike traffic jams, the phases in an organisation aren’t completely black and white. There’s some politics in a small startup, and there’s a great deal of innovation in big corps. Our goal is to maintain a balance between the forces so that the net output is positive. Phase Transition is a good mental model to help us achieve that.\n          \"\"\"",
      "metadata": {
        "trusted": true
      },
      "outputs": [],
      "execution_count": 8
    },
    {
      "cell_type": "code",
      "source": "stop_words = {'the', 'and', 'in', 'a', 'an', 'is', 'it', 'for', 'of', 'to', 'with', 'as', 'on', 'at', 'by', 'from','you','your','that','The','are','be','You','we'}\n\n",
      "metadata": {
        "trusted": true
      },
      "outputs": [],
      "execution_count": 16
    },
    {
      "cell_type": "code",
      "source": "words = text.split()\nwords = [word for word in words if word not in stop_words]\nword_counts = Counter(words)\nmost_common_words = word_counts.most_common(10)\ntopic = most_common_words[0][0]\nprint(\"Topic:\", topic)\nprint(\"10 Most Common Words:\")\nfor word, count in most_common_words:\n    print(f\"{word}: {count}\")",
      "metadata": {
        "trusted": true
      },
      "outputs": [
        {
          "name": "stdout",
          "text": "Topic: traffic\n10 Most Common Words:\ntraffic: 9\nbig: 8\nmore: 8\nproject: 8\nthis: 8\ntheir: 8\nbut: 7\nwould: 7\nIf: 7\nbetween: 7\n",
          "output_type": "stream"
        }
      ],
      "execution_count": 17
    }
  ]
}